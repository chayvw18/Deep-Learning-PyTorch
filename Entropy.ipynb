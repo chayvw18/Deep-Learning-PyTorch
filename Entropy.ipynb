{
  "nbformat": 4,
  "nbformat_minor": 0,
  "metadata": {
    "colab": {
      "provenance": [],
      "mount_file_id": "1jWo3i1zKfqOP_Ql8FcONQGIvkBJb0Nim",
      "authorship_tag": "ABX9TyMO2aFfoArrGk0TkB2OiFyt",
      "include_colab_link": true
    },
    "kernelspec": {
      "name": "python3",
      "display_name": "Python 3"
    },
    "language_info": {
      "name": "python"
    }
  },
  "cells": [
    {
      "cell_type": "markdown",
      "metadata": {
        "id": "view-in-github",
        "colab_type": "text"
      },
      "source": [
        "<a href=\"https://colab.research.google.com/github/chayvw18/Deep-Learning-PyTorch/blob/main/Entropy.ipynb\" target=\"_parent\"><img src=\"https://colab.research.google.com/assets/colab-badge.svg\" alt=\"Open In Colab\"/></a>"
      ]
    },
    {
      "cell_type": "code",
      "execution_count": 1,
      "metadata": {
        "colab": {
          "base_uri": "https://localhost:8080/"
        },
        "id": "1dSzjF7HkPv5",
        "outputId": "8b00c6cd-7e88-43b2-b3b3-1dbf60c731c1"
      },
      "outputs": [
        {
          "output_type": "stream",
          "name": "stdout",
          "text": [
            "/content/drive/MyDrive/Deep-Learning/Math-Numpy-PyTorch\n"
          ]
        }
      ],
      "source": [
        "%cd /content/drive/MyDrive/Deep-Learning/Math-Numpy-PyTorch"
      ]
    },
    {
      "cell_type": "markdown",
      "source": [
        "**Entropy**\n",
        "<br>\n",
        "Shannon Entropy is a measure , its a quantity that describes the amount of surprise or uncertainty that we have about a specific variable\n",
        "<br>\n",
        "*surprising things convey more information*\n",
        "<br>\n",
        "The idea is that entropy is maximal when probabilities are chance level and miminmal as probabilities go to zero or to one indicating that we have a lot of certainty and predictability about this particular event.\n",
        "```\n",
        "H = - ∑ p(𝐗i) log2(p(𝐗i) x = data values p = probability\n",
        "```\n",
        "**Interpreting Entropy**\n",
        "<br>\n",
        "\n",
        "High entropy means the dataset has a lot of variability. Low entropy means that most of the values of the dataset repeat(and therefore are redundant)\n",
        "<br>\n",
        "\n",
        "Entropy differs from variance because entropy is nonlinear and makes no assumption about the distibution\n",
        "<br>\n",
        "\n",
        "Variance depends on the validity of the mean and therefore is appropriate for roughly normal data\n",
        "```\n",
        "H(p) = ∑ p log(p) H(p, q) = ∑ p log(q) cross entropy\n",
        "\n",
        "```\n",
        "**Cross-Entropy** describes the relationship between two probability distribution\n",
        "<br>\n",
        "\n",
        "In deep learning cross entropy is used to characterize the perfromance of the model.\n",
        "<br>\n",
        "\n",
        "*In DL events happen or dont happen --> p=0 or p=1*"
      ],
      "metadata": {
        "id": "-djhIJNhkpfc"
      }
    },
    {
      "cell_type": "code",
      "source": [
        "import numpy as np\n",
        "\n",
        "p = .25\n",
        "\n",
        "#entropy\n",
        "x = [.25, .75]\n",
        "\n",
        "H = 0\n",
        "\n",
        "for p in x:\n",
        "  H -= p*np.log(p)\n",
        "\n",
        "print('Correct Entropy' + ' ' + str(H))"
      ],
      "metadata": {
        "colab": {
          "base_uri": "https://localhost:8080/"
        },
        "id": "gy7UV3EgpnMf",
        "outputId": "884dbc16-7872-48c8-d277-4abcbb946bc3"
      },
      "execution_count": 3,
      "outputs": [
        {
          "output_type": "stream",
          "name": "stdout",
          "text": [
            "Correct Entropy 0.5623351446188083\n"
          ]
        }
      ]
    },
    {
      "cell_type": "code",
      "source": [
        "#written out for N = 2 events\n",
        "#binary  entropy\n",
        "H = -(p*np.log(p) + (1-p)*np.log(1-p))\n",
        "print('Correct Entropy' + ' ' + str(H))"
      ],
      "metadata": {
        "colab": {
          "base_uri": "https://localhost:8080/"
        },
        "id": "Wy_rlHPVs9Ky",
        "outputId": "5f838654-0e9a-41b5-87dd-f4fd1af13f95"
      },
      "execution_count": 5,
      "outputs": [
        {
          "output_type": "stream",
          "name": "stdout",
          "text": [
            "Correct Entropy 0.5623351446188083\n"
          ]
        }
      ]
    },
    {
      "cell_type": "code",
      "source": [
        "#cross entropy\n",
        "p = [1, 0] #it is a cat or it isnt\n",
        "q = [.25, .75] #prob of it being a cat\n",
        "\n",
        "H = 0\n",
        "for i in range(len(p)):\n",
        "  H -= p[i] * np.log(q[i])\n",
        "\n",
        "print('Correct Entropy' + ' ' + str(H))"
      ],
      "metadata": {
        "colab": {
          "base_uri": "https://localhost:8080/"
        },
        "id": "8aRfOjestOLw",
        "outputId": "13b8ffc9-f728-420e-85a0-01a317852736"
      },
      "execution_count": 6,
      "outputs": [
        {
          "output_type": "stream",
          "name": "stdout",
          "text": [
            "Correct Entropy 1.3862943611198906\n"
          ]
        }
      ]
    },
    {
      "cell_type": "code",
      "source": [
        "#now using pytorch\n",
        "import torch\n",
        "import torch.nn.functional as F\n",
        "\n",
        "#note inputs must be tensors\n",
        "q_tensor = torch.Tensor(q)\n",
        "p_tensor = torch.Tensor(p)\n",
        "\n",
        "F.binary_cross_entropy(q_tensor, p_tensor) #sensitive to order of the inputs"
      ],
      "metadata": {
        "colab": {
          "base_uri": "https://localhost:8080/"
        },
        "id": "ETSFFg0ZvEa4",
        "outputId": "59f99a61-7a7f-4651-86fd-17a5669df89c"
      },
      "execution_count": 8,
      "outputs": [
        {
          "output_type": "execute_result",
          "data": {
            "text/plain": [
              "tensor(1.3863)"
            ]
          },
          "metadata": {},
          "execution_count": 8
        }
      ]
    }
  ]
}