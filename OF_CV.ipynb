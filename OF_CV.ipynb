{
  "nbformat": 4,
  "nbformat_minor": 0,
  "metadata": {
    "colab": {
      "provenance": [],
      "mount_file_id": "17yQyV6aSMMMIa0IYz36GeQAhy_vMDIDc",
      "authorship_tag": "ABX9TyMSpBvwJXPDNr61eSX1yM+N",
      "include_colab_link": true
    },
    "kernelspec": {
      "name": "python3",
      "display_name": "Python 3"
    },
    "language_info": {
      "name": "python"
    }
  },
  "cells": [
    {
      "cell_type": "markdown",
      "metadata": {
        "id": "view-in-github",
        "colab_type": "text"
      },
      "source": [
        "<a href=\"https://colab.research.google.com/github/chayvw18/Deep-Learning-PyTorch/blob/main/OF_CV.ipynb\" target=\"_parent\"><img src=\"https://colab.research.google.com/assets/colab-badge.svg\" alt=\"Open In Colab\"/></a>"
      ]
    },
    {
      "cell_type": "code",
      "execution_count": 1,
      "metadata": {
        "colab": {
          "base_uri": "https://localhost:8080/"
        },
        "id": "CVhpcQnRVzq-",
        "outputId": "be206c11-4193-48ef-d281-2d5c1639d1d7"
      },
      "outputs": [
        {
          "output_type": "stream",
          "name": "stdout",
          "text": [
            "/content/drive/MyDrive/Deep-Learning/Overfitting-CrossValidation\n"
          ]
        }
      ],
      "source": [
        "%cd /content/drive/MyDrive/Deep-Learning/Overfitting-CrossValidation"
      ]
    },
    {
      "cell_type": "markdown",
      "source": [
        "**The Problem with OverFitting**\n",
        "<br>\n",
        "When we overfit the noise of the model, and that means the model is less able to genralize the new data.\n",
        "<br>\n",
        "Overfitting limits the ability to genralize the data pattern to new data.\n",
        "<br>\n",
        "\n",
        "*Overfitting*\n",
        "* Overly sensitive to noise\n",
        "* Increased sensitivity to subtle effects\n",
        "* Reduced genralizability\n",
        "* Over-parameterized models become difficult to estimate\n",
        "\n",
        "<br>\n",
        "*Underfitting*\n",
        "* Less sensitive to noise\n",
        "* Less likely to detect true effects\n",
        "* Reduced generalizability\n",
        "* Parameters are better estimated\n",
        "* Good results with less data\n",
        "\n",
        "<br>\n",
        "**How to know the correct number of parameters?**\n",
        "<br>\n",
        "With 1-2 dimensions: Visualize the data and make an infromed decision\n",
        "<br>\n",
        "*it is downright impossible to visualize the model spaces with high dimensional data*\n",
        "<br>\n",
        "With 3 + dimensions: use cross validation\n",
        "<br>\n",
        "**How to avoid Overfitting**\n",
        "<br>\n",
        "1 CV (training/hokd-out/test sets)\n",
        "2 Use regularization (L2 dropout, data manipulations, early stopping)\n",
        "<br>\n",
        "**Hidden Overfitting**\n",
        "<br>\n",
        "*Researcher degrees of freedom*: The researcher has many choices for how to clean, organize, and selecr the data; and which models and how mamy models to run\n"
      ],
      "metadata": {
        "id": "iMKFJjGOWs4x"
      }
    },
    {
      "cell_type": "markdown",
      "source": [
        "**Generalization and its boundaries**\n",
        "<br>\n",
        "Generalization: The model works well when applied to new data/ data model has not seen during the training\n",
        "<br>\n",
        "Generalization boundaries: The population you want to apply to"
      ],
      "metadata": {
        "id": "Lv4HH-6ar9qB"
      }
    },
    {
      "cell_type": "code",
      "source": [
        "import numpy as np\n",
        "import torch\n",
        "import torch.nn as nn\n",
        "import matplotlib.pyplot as plt\n",
        "\n",
        "from IPython import display\n",
        "display.set_matplotlib_formats('svg')"
      ],
      "metadata": {
        "id": "ydqtcEy3WEHw",
        "colab": {
          "base_uri": "https://localhost:8080/"
        },
        "outputId": "8dcf74fd-b388-4cda-8813-6f491c47de89"
      },
      "execution_count": 2,
      "outputs": [
        {
          "output_type": "stream",
          "name": "stderr",
          "text": [
            "<ipython-input-2-cfed14e462ba>:7: DeprecationWarning: `set_matplotlib_formats` is deprecated since IPython 7.23, directly use `matplotlib_inline.backend_inline.set_matplotlib_formats()`\n",
            "  display.set_matplotlib_formats('svg')\n"
          ]
        }
      ]
    },
    {
      "cell_type": "code",
      "source": [
        "import seaborn as sns\n",
        "\n",
        "iris = sns.load_dataset('iris')\n",
        "\n",
        "#conver from pandas dataframe to tensor\n",
        "data = torch.tensor(iris[iris.columns[0:4]].values).float()\n",
        "\n",
        "#transform species to number\n",
        "labels = torch.zeros(len(data), dtype=torch.long)\n",
        "\n",
        "labels[iris.species == 'versicolor'] = 1\n",
        "labels[iris.species == 'virginica'] = 2"
      ],
      "metadata": {
        "id": "CDoF4FB6ukN8"
      },
      "execution_count": 3,
      "outputs": []
    },
    {
      "cell_type": "code",
      "source": [
        "#separate data into train and test\n",
        "## devset here\n",
        "\n",
        "#how many training examples\n",
        "propTraining = .8 # in proportion , not percent\n",
        "nTraining = int(len(labels)* propTraining)\n",
        "\n",
        "#initalize a boolean vector to select data and labels\n",
        "\n",
        "traintestBool = np.zeros(len(labels), dtype=bool)\n",
        "\n",
        "# is thisthe correct way to select samples?\n",
        "# traintestBool[range(nTraining)] = True\n",
        "\n",
        "# this is better but why\n",
        "items2use4train = np.random.choice(range(len(labels)), nTraining, replace=False)\n",
        "\n",
        "traintestBool[items2use4train] = True\n",
        "\n",
        "traintestBool"
      ],
      "metadata": {
        "colab": {
          "base_uri": "https://localhost:8080/"
        },
        "collapsed": true,
        "id": "Wws4-snfu-xZ",
        "outputId": "805cf025-f569-4cb7-c52e-67fac50fa74e"
      },
      "execution_count": 13,
      "outputs": [
        {
          "output_type": "execute_result",
          "data": {
            "text/plain": [
              "array([ True, False,  True,  True,  True,  True,  True,  True, False,\n",
              "        True,  True,  True, False,  True,  True,  True,  True,  True,\n",
              "        True, False, False,  True,  True,  True, False,  True,  True,\n",
              "        True, False,  True,  True,  True,  True,  True,  True,  True,\n",
              "        True,  True,  True,  True,  True,  True,  True,  True, False,\n",
              "       False, False,  True,  True,  True,  True,  True,  True,  True,\n",
              "        True, False,  True,  True,  True,  True,  True, False,  True,\n",
              "        True, False,  True,  True,  True, False,  True,  True,  True,\n",
              "        True,  True,  True,  True,  True,  True,  True,  True,  True,\n",
              "       False, False,  True,  True, False,  True,  True,  True, False,\n",
              "        True, False,  True,  True,  True,  True,  True, False,  True,\n",
              "        True, False,  True,  True,  True,  True,  True,  True,  True,\n",
              "       False,  True, False, False, False, False,  True, False,  True,\n",
              "        True,  True,  True,  True,  True,  True,  True,  True,  True,\n",
              "        True,  True,  True,  True,  True,  True,  True,  True, False,\n",
              "        True,  True,  True, False,  True,  True,  True,  True,  True,\n",
              "        True,  True,  True,  True, False,  True])"
            ]
          },
          "metadata": {},
          "execution_count": 13
        }
      ]
    },
    {
      "cell_type": "code",
      "source": [
        "# test whether its balanced\n",
        "print('Average of full data:')\n",
        "print(torch.mean(labels.float())) # =1 by definition\n",
        "print(' ')\n",
        "\n",
        "print('Average of training data:')\n",
        "print(torch.mean(labels[traintestBool].float())) # should be 1\n",
        "print(' ')\n",
        "\n",
        "print('Average of test data:')\n",
        "print(torch.mean(labels[~traintestBool].float())) # =1 by definition\n",
        "print(' ')"
      ],
      "metadata": {
        "colab": {
          "base_uri": "https://localhost:8080/"
        },
        "id": "mytoFOOj6wF7",
        "outputId": "b81d6757-97dd-4683-bbba-d42e1884b469"
      },
      "execution_count": 14,
      "outputs": [
        {
          "output_type": "stream",
          "name": "stdout",
          "text": [
            "Average of full data:\n",
            "tensor(1.)\n",
            " \n",
            "Average of training data:\n",
            "tensor(1.)\n",
            " \n",
            "Average of test data:\n",
            "tensor(1.)\n",
            " \n"
          ]
        }
      ]
    },
    {
      "cell_type": "code",
      "source": [
        "#model architecture\n",
        "ANNiris = nn.Sequential(\n",
        "    nn.Linear(4, 64), #input layer\n",
        "    nn.ReLU(), #activation\n",
        "    nn.Linear(64, 64), #hidden layer\n",
        "    nn.ReLU(), #activation\n",
        "    nn.Linear(64, 3) #output layer\n",
        "\n",
        ")\n",
        "\n",
        "#loss function\n",
        "lossFun = nn.CrossEntropyLoss() # log softmax\n",
        "\n",
        "#optimizer\n",
        "optimizer = torch.optim.SGD(ANNiris.parameters(), lr=.01)"
      ],
      "metadata": {
        "id": "1tqEUMRO7V91"
      },
      "execution_count": 15,
      "outputs": []
    },
    {
      "cell_type": "code",
      "source": [
        "#entire dataset\n",
        "print(data.shape)\n",
        "\n",
        "#training set\n",
        "print(data[traintestBool].shape)\n",
        "\n",
        "#test\n",
        "print(data[~traintestBool, :].shape)\n"
      ],
      "metadata": {
        "colab": {
          "base_uri": "https://localhost:8080/"
        },
        "id": "N_U4dcCcEo__",
        "outputId": "2656caef-c8f5-47d7-bbcf-32bec51ae4f8"
      },
      "execution_count": 19,
      "outputs": [
        {
          "output_type": "stream",
          "name": "stdout",
          "text": [
            "torch.Size([150, 4])\n",
            "torch.Size([120, 4])\n",
            "torch.Size([30, 4])\n"
          ]
        }
      ]
    },
    {
      "cell_type": "code",
      "source": [
        "#train the model\n",
        "\n",
        "numepochs = 1000\n",
        "\n",
        "#initialize losses\n",
        "losses = torch.zeros(numepochs)\n",
        "ongoingACC = []\n",
        "\n",
        "#loop over epochs\n",
        "for epochi in range(numepochs):\n",
        "\n",
        "  #forward pass\n",
        "  yhat = ANNiris(data[traintestBool,:])\n",
        "\n",
        "  #compute the accuracy\n",
        "  ongoingACC.append(100 * torch.mean((torch.argmax(yhat, axis=1) == labels[traintestBool]).float() ))\n",
        "\n",
        "  #comput loss\n",
        "  loss = lossFun(yhat, labels[traintestBool])\n",
        "  losses[epochi] = loss\n",
        "\n",
        "  #backprop\n",
        "  optimizer.zero_grad()\n",
        "  loss.backward()\n",
        "  optimizer.step()"
      ],
      "metadata": {
        "id": "SbiJeAk1E3bV"
      },
      "execution_count": 21,
      "outputs": []
    },
    {
      "cell_type": "code",
      "source": [
        "#compute train and test accuracies\n",
        "\n",
        "#final forward pass using TRAINING DATA\n",
        "predictions =  ANNiris(data[traintestBool,:])\n",
        "trainacc = 100 * torch.mean((torch.argmax(yhat, axis=1) == labels[traintestBool]).float() )\n",
        "\n",
        "\n",
        "#final forward pass USING TEST DATA!\n",
        "predictions =  ANNiris(data[~traintestBool,:])\n",
        "testacc =  100 * torch.mean((torch.argmax(predictions, axis=1) == labels[~traintestBool]).float() )"
      ],
      "metadata": {
        "id": "g2OXDNzcIplY"
      },
      "execution_count": 23,
      "outputs": []
    },
    {
      "cell_type": "code",
      "source": [
        "#report accuarcies\n",
        "print('Final TRAIN accuracy: %g%%' %trainacc)\n",
        "print('Final Test accuracy: %g%%' %testacc)"
      ],
      "metadata": {
        "colab": {
          "base_uri": "https://localhost:8080/"
        },
        "id": "Vgh5Ksx-LTMc",
        "outputId": "04e7e924-9d24-4e70-8268-0f2707de2f2c"
      },
      "execution_count": 24,
      "outputs": [
        {
          "output_type": "stream",
          "name": "stdout",
          "text": [
            "Final TRAIN accuracy: 98.3333%\n",
            "Final Test accuracy: 100%\n"
          ]
        }
      ]
    }
  ]
}