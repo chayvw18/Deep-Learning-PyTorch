{
  "nbformat": 4,
  "nbformat_minor": 0,
  "metadata": {
    "colab": {
      "provenance": [],
      "mount_file_id": "1hSgukzaWprOFy8M4LpyPAij0ErX2BCce",
      "authorship_tag": "ABX9TyNVda/aub/kJowHVCHNhiS3",
      "include_colab_link": true
    },
    "kernelspec": {
      "name": "python3",
      "display_name": "Python 3"
    },
    "language_info": {
      "name": "python"
    }
  },
  "cells": [
    {
      "cell_type": "markdown",
      "metadata": {
        "id": "view-in-github",
        "colab_type": "text"
      },
      "source": [
        "<a href=\"https://colab.research.google.com/github/chayvw18/Deep-Learning-PyTorch/blob/main/Logarithms.ipynb\" target=\"_parent\"><img src=\"https://colab.research.google.com/assets/colab-badge.svg\" alt=\"Open In Colab\"/></a>"
      ]
    },
    {
      "cell_type": "code",
      "execution_count": 1,
      "metadata": {
        "colab": {
          "base_uri": "https://localhost:8080/"
        },
        "id": "HMvoJrwhc2ZV",
        "outputId": "80f08433-c112-47ca-a223-c18ad7e7ffcf"
      },
      "outputs": [
        {
          "output_type": "stream",
          "name": "stdout",
          "text": [
            "/content/drive/MyDrive/Deep-Learning/Math-Numpy-PyTorch\n"
          ]
        }
      ],
      "source": [
        "%cd /content/drive/MyDrive/Deep-Learning/Math-Numpy-PyTorch"
      ]
    },
    {
      "cell_type": "markdown",
      "source": [
        "**Logarithm**\n",
        "<br>\n",
        "The log function is very important in machine learning and optimization\n",
        "<br>\n",
        "*Deep Learning* is essentially a deep learning problem\n",
        "<br>\n",
        "***The Logarithm: The inverse of the natrual exponential***\n",
        "```\n",
        "exp(x) log(exp(x)) will leave you with just x\n",
        "```\n",
        "When plotted it bends just like e but it bends the other way, and the log still grows upto infinity eventually\n",
        "<br>\n",
        "The log is monontonic function of x, and log is nonlinear so the spacing between individual points are different\n",
        "<br>\n",
        "This is important because minimizing x is the same thing as minimizing log(x)\n",
        "<br>\n",
        "Essentially any changes made to the model in deep learning that minimizes x, thats also going to minimizes the log of x\n",
        "<br>\n",
        "Log stretches small values of x, and that is important because log is better distinguishing small and closely spaced numbers.\n",
        "<br>\n",
        "In deep learning we are often minimizing very small quantities , probability values and loss values that are very small and very close to zero,\n",
        "<br>\n",
        "so minimizing log is computationally easier than minimizing the original\n",
        "<br>\n",
        "**Logs with different bases**\n",
        "<br>\n",
        "All logs have the same properties , they only differ in slope"
      ],
      "metadata": {
        "id": "Spdiv8pjdRBp"
      }
    },
    {
      "cell_type": "code",
      "source": [
        "import numpy as np\n",
        "import matplotlib.pyplot as plt"
      ],
      "metadata": {
        "id": "VAQIpXY3g-lv"
      },
      "execution_count": 2,
      "outputs": []
    },
    {
      "cell_type": "code",
      "source": [
        "#define a set of points to evaluate\n",
        "x = np.linspace(.0001, 1, 200)\n",
        "\n",
        "#compute their log\n",
        "logx = np.log(x)\n",
        "\n",
        "#plot\n",
        "fig = plt.figure(figsize=(10,4))\n",
        "\n",
        "plt.rcParams.update({'font.size':15})\n",
        "\n",
        "plt.plot(x, logx, 'ks', markerfacecolor='w')\n",
        "plt.xlabel('x')\n",
        "plt.ylabel('log(x)')\n",
        "plt.show()"
      ],
      "metadata": {
        "colab": {
          "base_uri": "https://localhost:8080/",
          "height": 400
        },
        "id": "IBhNu9tRiaPT",
        "outputId": "c7477089-9441-4937-fe6d-4de323c5b92e"
      },
      "execution_count": 6,
      "outputs": [
        {
          "output_type": "display_data",
          "data": {
            "text/plain": [
              "<Figure size 1000x400 with 1 Axes>"
            ],
            "image/png": "[encoded data removed]"
          },
          "metadata": {}
        }
      ]
    },
    {
      "cell_type": "code",
      "source": [],
      "metadata": {
        "id": "VRCc057sjJIm"
      },
      "execution_count": null,
      "outputs": []
    }
  ]
}