{
  "nbformat": 4,
  "nbformat_minor": 0,
  "metadata": {
    "colab": {
      "provenance": [],
      "mount_file_id": "1OZYFRHhC6UStQoLxEDMaPG4WwTqXS9vv",
      "authorship_tag": "ABX9TyNBd7YStEJIOc8PHDVHFrTJ",
      "include_colab_link": true
    },
    "kernelspec": {
      "name": "python3",
      "display_name": "Python 3"
    },
    "language_info": {
      "name": "python"
    }
  },
  "cells": [
    {
      "cell_type": "markdown",
      "metadata": {
        "id": "view-in-github",
        "colab_type": "text"
      },
      "source": [
        "<a href=\"https://colab.research.google.com/github/chayvw18/Deep-Learning-PyTorch/blob/main/LossFun.ipynb\" target=\"_parent\"><img src=\"https://colab.research.google.com/assets/colab-badge.svg\" alt=\"Open In Colab\"/></a>"
      ]
    },
    {
      "cell_type": "code",
      "execution_count": null,
      "metadata": {
        "colab": {
          "base_uri": "https://localhost:8080/"
        },
        "id": "ly7eE2BNr5zd",
        "outputId": "7985b68c-7071-40b2-f01f-d7d86d043098"
      },
      "outputs": [
        {
          "output_type": "stream",
          "name": "stdout",
          "text": [
            "/content/drive/MyDrive/Deep-Learning\n"
          ]
        }
      ],
      "source": [
        "%cd /content/drive/MyDrive/Deep-Learning"
      ]
    },
    {
      "cell_type": "markdown",
      "source": [
        "**Loss Function**\n",
        "<br>\n",
        "\n",
        "*Why we need losses*\n",
        "<br>\n",
        "We need losses to train the model.\n",
        "```\n",
        "σ(xΤw) - w - yhat 'forward pass'  linerar function input times the weight , a linear weighted combination of the inputs, and then passes through the sigmoid which is a nonliner activation function\n",
        "```\n",
        "The difference from what the model thinks is going on in the outside world and what is actually measured from the outside world is the loss function\n",
        "<br>\n",
        "Technically we use the derivative of the loss function that we use to update the weights and tell us how the lossfun changes as a function in the weighted parameters\n",
        "<br>\n",
        "'gradient' multi demensional derivative, and we then multiply the gradient by a learning rate which we call η.\n",
        "<br>\n",
        "The point of the lr is to scale the gradient down so that we are taking \"small steps in the right direction\"\n",
        "```\n",
        "w <-- w - ηdℒ\n",
        "```\n"
      ],
      "metadata": {
        "id": "2r6p7NQazqNm"
      }
    },
    {
      "cell_type": "markdown",
      "source": [
        "**Cross Entropy Loss**\n",
        "```\n",
        "𝓛 = -(ylog(yhat) + (1-y)log(1-yhat))\n",
        "```\n",
        "<br>\n",
        "\n",
        "Binary Cross Entropy(BCE) - used for two possoble answers\n",
        "<br>\n",
        "\n",
        "Categorical cross-entropy aka negative likelihood - used with one hot encoding, when we have multiple categories\n",
        "<br>\n",
        "\n",
        "When N = 1 and C = 2 (one data sample and two categories), y2 = 1-y1\n",
        "<br>\n",
        "\n",
        "With categorical data the y's are 0 or 1 but the yhat are not 0 or 1. They are numerical values between 0 and 1, because these are probabilities that the model outputs.\n",
        "<br>\n",
        "*other loss functions*\n",
        "<br>\n",
        "Kullback-Leibler divergence(KL Distance) - measures the 'distance' between two probability distributions\n",
        "\n",
        "```\n",
        "𝓛 = Σ p(x) log(p(x)/q(x))\n",
        "```"
      ],
      "metadata": {
        "id": "V7ELdNVXzqH1"
      }
    },
    {
      "cell_type": "markdown",
      "source": [
        "**Outout layer architectures**\n",
        "<br>\n",
        "Predict continous data:\n",
        "* Output layers has one unit with *linear activation function*\n",
        "* MSE loss function\n",
        "\n",
        "Binary Classification:\n",
        "* Output layer has one unit with *sigmoid activation function*\n",
        "* Cross entropy loss function BCE\n",
        "\n",
        "Multiclass(N-way) classification\n",
        "* Output layer hasN units with *softmax activation functions*\n",
        "* cross entropy loss function CCE\n",
        "\n",
        "**Sigmoid vs Softmax**\n",
        "<br>\n",
        "*Why softmax for multiclass classification?*\n",
        "<br>\n",
        "Softmax for two categories equals sigmoid\n",
        "<br>\n",
        "using sigmoid for multiclass categorization doesn’t create a probability distribution\n",
        "<br>\n",
        "Sigmoid rewards correct responses; softmax also penalizes incorrect responses\n",
        "<br>\n",
        "\n",
        "**Softmax vs log-softmax**\n",
        "<br>\n",
        "\n",
        "Log-softmax: compute softmax, then take log(p), log-softmax increases the sensitivity  to discriminate between different decisions, different categories at small probabilities\n",
        "<br>\n",
        "Log softmax also gives a stronger penalty for errors compared to regular softmax.\n",
        "\n"
      ],
      "metadata": {
        "id": "VkNOaGxOCYiE"
      }
    },
    {
      "cell_type": "code",
      "source": [
        "import torch\n",
        "import torch.nn as nn\n",
        "import numpy as np\n",
        "import matplotlib.pyplot as plt\n"
      ],
      "metadata": {
        "id": "Bb09V4RuzhyZ"
      },
      "execution_count": 2,
      "outputs": []
    },
    {
      "cell_type": "code",
      "source": [
        "#mean square error\n",
        "\n",
        "lossFunMSE = nn.MSELoss()\n",
        "\n",
        "#create predictiond and real answer\n",
        "yhat = torch.linspace(-2, 2, 101)\n",
        "y = torch.tensor(.5)\n",
        "\n",
        "#compute MSE loss function\n",
        "L = np.zeros(101)\n",
        "for i, yy in enumerate(yhat):\n",
        "  L[i] = lossFunMSE(yy, y)\n",
        "\n",
        "plt.plot(yhat, L, label='Loss')\n",
        "plt.plot([y,y], [0, np.max(L)], 'r', label='True value')\n",
        "plt.xlabel('Predicted Vale')\n",
        "plt.legend()\n",
        "plt.show()"
      ],
      "metadata": {
        "colab": {
          "base_uri": "https://localhost:8080/",
          "height": 449
        },
        "id": "al6BYqwbI_7u",
        "outputId": "35d46509-4fee-4e95-baee-554db098384e"
      },
      "execution_count": 5,
      "outputs": [
        {
          "output_type": "display_data",
          "data": {
            "text/plain": [
              "<Figure size 640x480 with 1 Axes>"
            ],
            "image/png": "[encoded data removed]"
          },
          "metadata": {}
        }
      ]
    },
    {
      "cell_type": "code",
      "source": [
        "#BCE\n",
        "lossFunBCE = nn.BCELoss()\n",
        "\n",
        "#create predictiond and real answer\n",
        "yhat = torch.linspace(.001, .999, 101)\n",
        "y1 = torch.tensor(0.)\n",
        "y2 = torch.tensor(1.)\n",
        "\n",
        "#compute MSE loss function\n",
        "L = np.zeros((101, 2))\n",
        "for i, yy in enumerate(yhat):\n",
        "  L[i,0] = lossFunBCE(yy, y1)\n",
        "  L[i,1] = lossFunBCE(yy, y2)\n",
        "\n",
        "plt.plot(yhat, L, label='Loss')\n",
        "# plt.plot([y,y], [0, np.max(L)], 'r', label='True value')\n",
        "plt.xlabel('Predicted Vale')\n",
        "plt.legend(['correct=0', 'correct=1'])\n",
        "plt.show()"
      ],
      "metadata": {
        "colab": {
          "base_uri": "https://localhost:8080/",
          "height": 449
        },
        "id": "tS27GWnUKOJa",
        "outputId": "7c25e6d7-be4c-481a-8e9c-d49454e7ab5c"
      },
      "execution_count": 7,
      "outputs": [
        {
          "output_type": "display_data",
          "data": {
            "text/plain": [
              "<Figure size 640x480 with 1 Axes>"
            ],
            "image/png": "[encoded data removed]"
          },
          "metadata": {}
        }
      ]
    },
    {
      "cell_type": "code",
      "source": [
        "lossFunCCE = nn.CrossEntropyLoss()\n",
        "\n",
        "#vector of output layer (presoftmax)\n",
        "yhat = torch.tensor([[1., 4, 3]])\n",
        "\n",
        "\n",
        "for i in range(3):\n",
        "  correctAnswer = torch.tensor([i])\n",
        "  thisloss = lossFunCCE(yhat, correctAnswer).item()\n",
        "  print('Loss when correct answer is %g: %g' %(i, thisloss))"
      ],
      "metadata": {
        "colab": {
          "base_uri": "https://localhost:8080/"
        },
        "id": "7w-R3WNHPDKx",
        "outputId": "2e775e08-e42c-486a-d82e-b26ec41067e0"
      },
      "execution_count": 9,
      "outputs": [
        {
          "output_type": "stream",
          "name": "stdout",
          "text": [
            "Loss when correct answer is 0: 3.34901\n",
            "Loss when correct answer is 1: 0.349012\n",
            "Loss when correct answer is 2: 1.34901\n"
          ]
        }
      ]
    },
    {
      "cell_type": "code",
      "source": [
        "sm = nn.Softmax(dim=1)\n",
        "yhat_sm = sm(yhat)\n",
        "\n",
        "for i in range(3):\n",
        "  correctAnswer = torch.tensor([i])\n",
        "  thisloss = lossFunCCE(yhat_sm, correctAnswer).item()\n",
        "  print('Loss when correct answer is %g: %g' %(i, thisloss)) #incorrect softmax twice"
      ],
      "metadata": {
        "colab": {
          "base_uri": "https://localhost:8080/"
        },
        "id": "cBZ5raLQQFl4",
        "outputId": "4a6d902f-ce99-443a-b02e-e409fe4a5429"
      },
      "execution_count": 12,
      "outputs": [
        {
          "output_type": "stream",
          "name": "stdout",
          "text": [
            "Loss when correct answer is 0: 1.43658\n",
            "Loss when correct answer is 1: 0.766318\n",
            "Loss when correct answer is 2: 1.21221\n"
          ]
        }
      ]
    },
    {
      "cell_type": "code",
      "source": [
        "sm = nn.LogSoftmax(dim=1)\n",
        "yhat_logsm = sm(yhat)\n",
        "\n",
        "print(yhat)\n",
        "print(yhat_sm) #prop distribution\n",
        "print(yhat_logsm)\n",
        "\n"
      ],
      "metadata": {
        "colab": {
          "base_uri": "https://localhost:8080/"
        },
        "id": "NPUNC6-FSgI8",
        "outputId": "56281797-953a-4238-9345-90fc14864a24"
      },
      "execution_count": 14,
      "outputs": [
        {
          "output_type": "stream",
          "name": "stdout",
          "text": [
            "tensor([[1., 4., 3.]])\n",
            "tensor([[0.0351, 0.7054, 0.2595]])\n",
            "tensor([[-3.3490, -0.3490, -1.3490]])\n"
          ]
        }
      ]
    },
    {
      "cell_type": "code",
      "source": [
        "#create your own custom loss function\n",
        "class myLoss(nn.Module):\n",
        "  def __init__(self):\n",
        "    super().__init__()\n",
        "\n",
        "  def forward(self, x,y):\n",
        "    loss = torch.abs(x-y)\n",
        "    return loss\n",
        "\n",
        "#test it out\n",
        "lfun = myLoss()\n",
        "lfun(torch.tensor(4), torch.tensor(5.2))"
      ],
      "metadata": {
        "colab": {
          "base_uri": "https://localhost:8080/"
        },
        "id": "-5-0KR2hpAiQ",
        "outputId": "1e897d5f-ec61-44a9-9700-285f1ffb1738"
      },
      "execution_count": 16,
      "outputs": [
        {
          "output_type": "execute_result",
          "data": {
            "text/plain": [
              "tensor(1.2000)"
            ]
          },
          "metadata": {},
          "execution_count": 16
        }
      ]
    }
  ]
}