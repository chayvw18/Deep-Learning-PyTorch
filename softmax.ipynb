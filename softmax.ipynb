{
  "nbformat": 4,
  "nbformat_minor": 0,
  "metadata": {
    "colab": {
      "provenance": [],
      "mount_file_id": "1NE-_suj7piQb_rzaX7GH6o3enMK5P3Yk",
      "authorship_tag": "ABX9TyMjLMoR/HjXDBCKildmLlSp",
      "include_colab_link": true
    },
    "kernelspec": {
      "name": "python3",
      "display_name": "Python 3"
    },
    "language_info": {
      "name": "python"
    }
  },
  "cells": [
    {
      "cell_type": "markdown",
      "metadata": {
        "id": "view-in-github",
        "colab_type": "text"
      },
      "source": [
        "<a href=\"https://colab.research.google.com/github/chayvw18/Deep-Learning-PyTorch/blob/main/softmax.ipynb\" target=\"_parent\"><img src=\"https://colab.research.google.com/assets/colab-badge.svg\" alt=\"Open In Colab\"/></a>"
      ]
    },
    {
      "cell_type": "code",
      "execution_count": 1,
      "metadata": {
        "colab": {
          "base_uri": "https://localhost:8080/"
        },
        "id": "XlUaQci-zSwU",
        "outputId": "30463945-81f4-400e-fc36-699dd305368e"
      },
      "outputs": [
        {
          "output_type": "stream",
          "name": "stdout",
          "text": [
            "/content/drive/MyDrive/Deep-Learning/Math-Numpy-PyTorch\n"
          ]
        }
      ],
      "source": [
        "%cd /content/drive/MyDrive/Deep-Learning/Math-Numpy-PyTorch"
      ]
    },
    {
      "cell_type": "markdown",
      "source": [
        "**The Natural Exponent**\n",
        "<br>\n",
        "the natural exponent is e = 2.718..., which is a constant number or a scalar in linear algebra\n",
        "<br>\n",
        "The number never ends and goes on and on without any pattern\n",
        "<br>\n",
        "```\n",
        "e**x is its own derivative , so e**x = e**x\n",
        "```\n",
        "It is also strictly a positive number and never goes below zero, even when x is negative\n",
        "<br>\n",
        "That is important because with the softmax function we use the natural exponent to generate probabilities and those probabilities values are always positive values / non negative values\n",
        "```\n",
        "z = {1, 2, 3} e**z = {2.72, 7.39, 20.01} sum(e**z) = 30.19 softmax function\n",
        "sigma = {.09, .24, .67}\n",
        "```\n",
        "When you sum up all the softmax transformations of a set of numbers , the value will always be one.\n",
        "<br>\n",
        "**The way to think about the softmax function**\n",
        "<br>\n",
        "Like a machine that takes input and gives output, and the input it takes is numerical quantities for various things in the universe even independent probabilities.\n",
        "<br>\n",
        "We then apply the formula and the output is going to be something to interpret\n",
        "```\n",
        "thing 1 thing 2 thing 3 ---> 'softmax machine' ---> p(thing 1) p(thing 2) p(thing 3)\n",
        "```\n",
        "In deep learning you take the collection of arbitrary numerical values that have no intrinsic interpretable values, and then we convert them into probability values and then map on specific categories that the network is learning\n",
        "<br>\n"
      ],
      "metadata": {
        "id": "NjZgJk-h0ulb"
      }
    },
    {
      "cell_type": "code",
      "source": [
        "import numpy as np\n",
        "import torch\n",
        "import torch.nn as nn #nerual network\n",
        "import matplotlib.pyplot as plt\n"
      ],
      "metadata": {
        "id": "6hp4hdmh_sFh"
      },
      "execution_count": 2,
      "outputs": []
    },
    {
      "cell_type": "code",
      "source": [
        "#manually compute the softmax function\n",
        "\n",
        "#the list of numbers\n",
        "z = [1, 2, 3]\n",
        "\n",
        "#compute the softmax results\n",
        "num = np.exp(z)\n",
        "den = np.sum( np.exp(z) )\n",
        "sigma = num / den\n",
        "\n",
        "print(sigma)\n",
        "print(np.sum(sigma))"
      ],
      "metadata": {
        "colab": {
          "base_uri": "https://localhost:8080/"
        },
        "id": "OmoYBqyl_-IV",
        "outputId": "ca3e7776-2d7c-4b24-cbc7-33a42b4b2c4e"
      },
      "execution_count": 3,
      "outputs": [
        {
          "output_type": "stream",
          "name": "stdout",
          "text": [
            "[0.09003057 0.24472847 0.66524096]\n",
            "1.0\n"
          ]
        }
      ]
    },
    {
      "cell_type": "code",
      "source": [
        "#repeat with random intergers\n",
        "\n",
        "z = np.random.randint(-5, 15, size=25)\n",
        "\n",
        "num = np.exp(z)\n",
        "den = np.sum( np.exp(z) )\n",
        "sigma2 = num / den\n",
        "\n",
        "print(sigma2)\n",
        "print(np.sum(sigma2))"
      ],
      "metadata": {
        "colab": {
          "base_uri": "https://localhost:8080/"
        },
        "id": "aHHBWqjYBo3H",
        "outputId": "1b0c9863-de5e-41b9-a664-3371707ed56b"
      },
      "execution_count": 4,
      "outputs": [
        {
          "output_type": "stream",
          "name": "stdout",
          "text": [
            "[1.69724654e-03 3.40901081e-02 2.09456863e-07 3.83633627e-09\n",
            " 1.04282432e-08 1.54768851e-06 2.09456863e-07 1.04282432e-08\n",
            " 6.84718124e-01 3.40901081e-02 4.20705356e-06 1.54768851e-06\n",
            " 6.24382109e-04 1.25410499e-02 1.25410499e-02 9.26665213e-02\n",
            " 2.29697341e-04 3.10861548e-05 4.20705356e-06 2.09456863e-07\n",
            " 2.09456863e-07 1.54768851e-06 9.26665213e-02 7.70548738e-08\n",
            " 3.40901081e-02]\n",
            "1.0000000000000002\n"
          ]
        }
      ]
    },
    {
      "cell_type": "code",
      "source": [
        "plt.plot(z, sigma2, 'ko')\n",
        "plt.xlabel('Original Number (z)')\n",
        "plt.ylabel('Softmaxified $\\sigma2$')\n",
        "plt.title('$\\sum\\sigma2$ = %g' %np.sum(sigma2))\n",
        "plt.show()"
      ],
      "metadata": {
        "colab": {
          "base_uri": "https://localhost:8080/",
          "height": 477
        },
        "id": "WmMCkoixCIt0",
        "outputId": "2d3a4a0c-dd4d-43fe-d205-96d63a07c094"
      },
      "execution_count": 6,
      "outputs": [
        {
          "output_type": "display_data",
          "data": {
            "text/plain": [
              "<Figure size 640x480 with 1 Axes>"
            ],
            "image/png": "[encoded data removed]"
          },
          "metadata": {}
        }
      ]
    },
    {
      "cell_type": "markdown",
      "source": [
        "**Using PyTorch**\n"
      ],
      "metadata": {
        "id": "b0B_cNJDDUCO"
      }
    },
    {
      "cell_type": "code",
      "source": [
        "#slightly more involved using torch.nn\n",
        "\n",
        "#create an instance of the softmax activation class\n",
        "softfunc = nn.Softmax(dim=0)\n",
        "\n",
        "#then apply the data to that function\n",
        "sigmaT = softfunc( torch.Tensor(z) ) #convert z from an array/list to a tensor\n",
        "\n",
        "#Results\n",
        "print(sigmaT)"
      ],
      "metadata": {
        "colab": {
          "base_uri": "https://localhost:8080/"
        },
        "id": "e0MoTsVCDmlh",
        "outputId": "85bc124a-c60c-4f1f-d61a-a57d87f8bcb5"
      },
      "execution_count": 7,
      "outputs": [
        {
          "output_type": "stream",
          "name": "stdout",
          "text": [
            "tensor([1.6972e-03, 3.4090e-02, 2.0946e-07, 3.8363e-09, 1.0428e-08, 1.5477e-06,\n",
            "        2.0946e-07, 1.0428e-08, 6.8472e-01, 3.4090e-02, 4.2071e-06, 1.5477e-06,\n",
            "        6.2438e-04, 1.2541e-02, 1.2541e-02, 9.2667e-02, 2.2970e-04, 3.1086e-05,\n",
            "        4.2071e-06, 2.0946e-07, 2.0946e-07, 1.5477e-06, 9.2667e-02, 7.7055e-08,\n",
            "        3.4090e-02])\n"
          ]
        }
      ]
    }
  ]
}